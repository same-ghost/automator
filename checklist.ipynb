{
 "cells": [
  {
   "cell_type": "code",
   "execution_count": 4,
   "metadata": {},
   "outputs": [],
   "source": [
    "import openpyxl"
   ]
  },
  {
   "cell_type": "code",
   "execution_count": 5,
   "metadata": {},
   "outputs": [],
   "source": [
    "FILE_LOCATION = '/mnt/c/Users/talbert/Downloads/Linux/'"
   ]
  },
  {
   "cell_type": "code",
   "execution_count": 6,
   "metadata": {},
   "outputs": [],
   "source": [
    "source_book = openpyxl.load_workbook(FILE_LOCATION + 'datasource.xlsx')\n",
    "source_sheet = source_book['Degree Checklist - Course List ']"
   ]
  },
  {
   "cell_type": "code",
   "execution_count": 8,
   "metadata": {},
   "outputs": [],
   "source": [
    "target_book = openpyxl.load_workbook(FILE_LOCATION + 'skeleton.xlsx')\n",
    "target_sheet = target_book['Automator Student List']"
   ]
  },
  {
   "cell_type": "code",
   "execution_count": 4,
   "metadata": {},
   "outputs": [],
   "source": [
    "for x in range(1,60):\n",
    "    for row in range(1, x):\n",
    "        for column in range(1, x):\n",
    "            target_sheet.cell(row=x,column=x)"
   ]
  },
  {
   "cell_type": "code",
   "execution_count": 5,
   "metadata": {},
   "outputs": [],
   "source": [
    "def validator(grade):\n",
    "    valid_grades = ['A+', 'A', 'A-', 'B+', 'B', 'B-', 'C+', 'C', 'C-', 'D+', 'D', 'D-', None]\n",
    "    return grade in valid_grades"
   ]
  },
  {
   "cell_type": "markdown",
   "metadata": {},
   "source": [
    "`def fyw(target, course, term, grade):\n",
    "     target[9].value = course\n",
    "     target[10].value = term\n",
    "     target[11].value = grade`"
   ]
  },
  {
   "cell_type": "markdown",
   "metadata": {},
   "source": [
    "`invalid_grades = ['F+', 'F', 'F-', 'P', 'PD', 'NP', 'CIP', 'I', 'Q']`"
   ]
  },
  {
   "cell_type": "code",
   "execution_count": 7,
   "metadata": {},
   "outputs": [],
   "source": [
    "terms = {'D1' : 'FA', 'D2': 'SP', 'D4': 'SU', '  ': 'EQUIV'}"
   ]
  },
  {
   "cell_type": "code",
   "execution_count": null,
   "metadata": {},
   "outputs": [],
   "source": []
  },
  {
   "cell_type": "code",
   "execution_count": 25,
   "metadata": {},
   "outputs": [],
   "source": [
    "for student in target_sheet.iter_rows(min_row=2):\n",
    "    for course in source_sheet.iter_rows(min_row=2):\n",
    "        if student[0].value == course[0].value:\n",
    "            if validator(course[5].value):\n",
    "                if course[1].value == None:\n",
    "                    break\n",
    "                term = terms[course[1].value[4:]] + course[1].value[2:4]\n",
    "                if course[6].value == 'FYW':\n",
    "                    fyw(student, course[2].value, term, course[5].value)"
   ]
  },
  {
   "cell_type": "code",
   "execution_count": 26,
   "metadata": {},
   "outputs": [],
   "source": [
    "target_book.save('targeted.xlsx')"
   ]
  },
  {
   "cell_type": "code",
   "execution_count": null,
   "metadata": {},
   "outputs": [],
   "source": []
  }
 ],
 "metadata": {
  "kernelspec": {
   "display_name": "Python 3",
   "language": "python",
   "name": "python3"
  },
  "language_info": {
   "codemirror_mode": {
    "name": "ipython",
    "version": 3
   },
   "file_extension": ".py",
   "mimetype": "text/x-python",
   "name": "python",
   "nbconvert_exporter": "python",
   "pygments_lexer": "ipython3",
   "version": "3.7.5"
  }
 },
 "nbformat": 4,
 "nbformat_minor": 2
}
